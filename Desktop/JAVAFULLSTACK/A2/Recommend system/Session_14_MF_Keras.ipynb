{
 "cells": [
  {
   "cell_type": "code",
   "execution_count": 1,
   "metadata": {
    "colab": {
     "base_uri": "https://localhost:8080/"
    },
    "executionInfo": {
     "elapsed": 344,
     "status": "ok",
     "timestamp": 1631812237618,
     "user": {
      "displayName": "Tuan Nguyen",
      "photoUrl": "https://lh3.googleusercontent.com/a/default-user=s64",
      "userId": "16032819670068843268"
     },
     "user_tz": -420
    },
    "id": "pcww0oM0gV5z",
    "outputId": "ad5313b5-aa2f-4fcb-ed15-914b67370436"
   },
   "outputs": [
    {
     "name": "stdout",
     "output_type": "stream",
     "text": [
      "Drive already mounted at /content/drive; to attempt to forcibly remount, call drive.mount(\"/content/drive\", force_remount=True).\n"
     ]
    }
   ],
   "source": [
    "from google.colab import drive\n",
    "drive.mount('/content/drive')"
   ]
  },
  {
   "cell_type": "code",
   "execution_count": 2,
   "metadata": {
    "colab": {
     "base_uri": "https://localhost:8080/"
    },
    "executionInfo": {
     "elapsed": 488,
     "status": "ok",
     "timestamp": 1631812240381,
     "user": {
      "displayName": "Tuan Nguyen",
      "photoUrl": "https://lh3.googleusercontent.com/a/default-user=s64",
      "userId": "16032819670068843268"
     },
     "user_tz": -420
    },
    "id": "rxC1DT5ggnOu",
    "outputId": "6fb0a8d3-f4ca-4ded-c3a0-e197b34832b2"
   },
   "outputs": [
    {
     "name": "stdout",
     "output_type": "stream",
     "text": [
      "/content/drive/MyDrive/Data/Movies\n"
     ]
    }
   ],
   "source": [
    "%cd /content/drive/MyDrive/Data/Movies/"
   ]
  },
  {
   "cell_type": "code",
   "execution_count": 3,
   "metadata": {
    "colab": {
     "base_uri": "https://localhost:8080/",
     "height": 35
    },
    "executionInfo": {
     "elapsed": 2231,
     "status": "ok",
     "timestamp": 1631812244622,
     "user": {
      "displayName": "Tuan Nguyen",
      "photoUrl": "https://lh3.googleusercontent.com/a/default-user=s64",
      "userId": "16032819670068843268"
     },
     "user_tz": -420
    },
    "id": "KWe-ZdX6gHAi",
    "outputId": "3f733234-4337-4a46-ba6f-3fa13af8cdc5"
   },
   "outputs": [
    {
     "data": {
      "application/vnd.google.colaboratory.intrinsic+json": {
       "type": "string"
      },
      "text/plain": [
       "'2.6.0'"
      ]
     },
     "execution_count": 3,
     "metadata": {},
     "output_type": "execute_result"
    }
   ],
   "source": [
    "import pandas as pd\n",
    "import tensorflow as tf\n",
    "from tensorflow import keras\n",
    "\n",
    "tf.__version__\n",
    "# %tensorflow_version 2.x"
   ]
  },
  {
   "cell_type": "code",
   "execution_count": 4,
   "metadata": {
    "colab": {
     "base_uri": "https://localhost:8080/",
     "height": 205
    },
    "executionInfo": {
     "elapsed": 14,
     "status": "ok",
     "timestamp": 1631812246838,
     "user": {
      "displayName": "Tuan Nguyen",
      "photoUrl": "https://lh3.googleusercontent.com/a/default-user=s64",
      "userId": "16032819670068843268"
     },
     "user_tz": -420
    },
    "id": "xp5bu-tQgMgh",
    "outputId": "5785f0dd-6e1d-4637-a16c-9ea5e8cd51f5"
   },
   "outputs": [
    {
     "data": {
      "text/html": [
       "<div>\n",
       "<style scoped>\n",
       "    .dataframe tbody tr th:only-of-type {\n",
       "        vertical-align: middle;\n",
       "    }\n",
       "\n",
       "    .dataframe tbody tr th {\n",
       "        vertical-align: top;\n",
       "    }\n",
       "\n",
       "    .dataframe thead th {\n",
       "        text-align: right;\n",
       "    }\n",
       "</style>\n",
       "<table border=\"1\" class=\"dataframe\">\n",
       "  <thead>\n",
       "    <tr style=\"text-align: right;\">\n",
       "      <th></th>\n",
       "      <th>userId</th>\n",
       "      <th>movieId</th>\n",
       "      <th>rating</th>\n",
       "      <th>unix_timestamp</th>\n",
       "    </tr>\n",
       "  </thead>\n",
       "  <tbody>\n",
       "    <tr>\n",
       "      <th>0</th>\n",
       "      <td>196</td>\n",
       "      <td>242</td>\n",
       "      <td>3</td>\n",
       "      <td>881250949</td>\n",
       "    </tr>\n",
       "    <tr>\n",
       "      <th>1</th>\n",
       "      <td>186</td>\n",
       "      <td>302</td>\n",
       "      <td>3</td>\n",
       "      <td>891717742</td>\n",
       "    </tr>\n",
       "    <tr>\n",
       "      <th>2</th>\n",
       "      <td>22</td>\n",
       "      <td>377</td>\n",
       "      <td>1</td>\n",
       "      <td>878887116</td>\n",
       "    </tr>\n",
       "    <tr>\n",
       "      <th>3</th>\n",
       "      <td>244</td>\n",
       "      <td>51</td>\n",
       "      <td>2</td>\n",
       "      <td>880606923</td>\n",
       "    </tr>\n",
       "    <tr>\n",
       "      <th>4</th>\n",
       "      <td>166</td>\n",
       "      <td>346</td>\n",
       "      <td>1</td>\n",
       "      <td>886397596</td>\n",
       "    </tr>\n",
       "  </tbody>\n",
       "</table>\n",
       "</div>"
      ],
      "text/plain": [
       "   userId  movieId  rating  unix_timestamp\n",
       "0     196      242       3       881250949\n",
       "1     186      302       3       891717742\n",
       "2      22      377       1       878887116\n",
       "3     244       51       2       880606923\n",
       "4     166      346       1       886397596"
      ]
     },
     "execution_count": 4,
     "metadata": {},
     "output_type": "execute_result"
    }
   ],
   "source": [
    "ratings_cols = ['userId', 'movieId', 'rating', 'unix_timestamp']\n",
    "ratings = pd.read_csv('ml-100k/u.data', sep='\\t', names=ratings_cols)\n",
    "ratings.head()"
   ]
  },
  {
   "cell_type": "code",
   "execution_count": 5,
   "metadata": {
    "executionInfo": {
     "elapsed": 395,
     "status": "ok",
     "timestamp": 1631812248327,
     "user": {
      "displayName": "Tuan Nguyen",
      "photoUrl": "https://lh3.googleusercontent.com/a/default-user=s64",
      "userId": "16032819670068843268"
     },
     "user_tz": -420
    },
    "id": "W_Kokt0ngMi-"
   },
   "outputs": [],
   "source": [
    "from sklearn.model_selection import train_test_split\n",
    "train_ratings, test_ratings = train_test_split(ratings, test_size=0.2)"
   ]
  },
  {
   "cell_type": "code",
   "execution_count": 6,
   "metadata": {
    "colab": {
     "base_uri": "https://localhost:8080/"
    },
    "executionInfo": {
     "elapsed": 8,
     "status": "ok",
     "timestamp": 1631812249393,
     "user": {
      "displayName": "Tuan Nguyen",
      "photoUrl": "https://lh3.googleusercontent.com/a/default-user=s64",
      "userId": "16032819670068843268"
     },
     "user_tz": -420
    },
    "id": "TnJs7dVZgMlZ",
    "outputId": "ec97dd1f-1fc8-43be-c734-ee5a1f8d2e46"
   },
   "outputs": [
    {
     "name": "stdout",
     "output_type": "stream",
     "text": [
      "943 1682\n"
     ]
    }
   ],
   "source": [
    "n_users, n_movies = len(ratings.userId.unique()), len(ratings.movieId.unique())\n",
    "print(n_users, n_movies)\n",
    "embedding_dim = 10"
   ]
  },
  {
   "cell_type": "code",
   "execution_count": 7,
   "metadata": {
    "executionInfo": {
     "elapsed": 1152,
     "status": "ok",
     "timestamp": 1631812251645,
     "user": {
      "displayName": "Tuan Nguyen",
      "photoUrl": "https://lh3.googleusercontent.com/a/default-user=s64",
      "userId": "16032819670068843268"
     },
     "user_tz": -420
    },
    "id": "jtkIJhxVgMn_"
   },
   "outputs": [],
   "source": [
    "user_input = keras.layers.Input(shape=[1], name='User')\n",
    "user_embedding = keras.layers.Embedding(n_users + 1, embedding_dim, name='User_Embedding')(user_input)\n",
    "user_vec = keras.layers.Flatten(name='Flatten_Users')(user_embedding)\n",
    "\n",
    "movie_input = keras.layers.Input(shape=[1], name='Item')\n",
    "movie_embedding = keras.layers.Embedding(n_movies + 1, embedding_dim, name='Movie_Embedding')(movie_input)\n",
    "movie_vec = keras.layers.Flatten(name='Flatten_Movies')(movie_embedding)\n",
    " \n",
    "prod = keras.layers.dot([movie_vec, user_vec], axes=1,name='DotProduct')\n",
    "model = keras.Model([user_input, movie_input], prod)"
   ]
  },
  {
   "cell_type": "code",
   "execution_count": 8,
   "metadata": {
    "executionInfo": {
     "elapsed": 5,
     "status": "ok",
     "timestamp": 1631812252677,
     "user": {
      "displayName": "Tuan Nguyen",
      "photoUrl": "https://lh3.googleusercontent.com/a/default-user=s64",
      "userId": "16032819670068843268"
     },
     "user_tz": -420
    },
    "id": "uB2nrv1khG5K"
   },
   "outputs": [],
   "source": [
    "model.compile(optimizer='adam', loss='mean_squared_error', metrics=['mae', 'mse'])"
   ]
  },
  {
   "cell_type": "code",
   "execution_count": 9,
   "metadata": {
    "colab": {
     "base_uri": "https://localhost:8080/"
    },
    "executionInfo": {
     "elapsed": 282,
     "status": "ok",
     "timestamp": 1631812254246,
     "user": {
      "displayName": "Tuan Nguyen",
      "photoUrl": "https://lh3.googleusercontent.com/a/default-user=s64",
      "userId": "16032819670068843268"
     },
     "user_tz": -420
    },
    "id": "3GkLKkBJhG3I",
    "outputId": "b25b4d0b-107e-44eb-9dbf-9a5269116f65"
   },
   "outputs": [
    {
     "name": "stdout",
     "output_type": "stream",
     "text": [
      "Model: \"model\"\n",
      "__________________________________________________________________________________________________\n",
      "Layer (type)                    Output Shape         Param #     Connected to                     \n",
      "==================================================================================================\n",
      "Item (InputLayer)               [(None, 1)]          0                                            \n",
      "__________________________________________________________________________________________________\n",
      "User (InputLayer)               [(None, 1)]          0                                            \n",
      "__________________________________________________________________________________________________\n",
      "Movie_Embedding (Embedding)     (None, 1, 10)        16830       Item[0][0]                       \n",
      "__________________________________________________________________________________________________\n",
      "User_Embedding (Embedding)      (None, 1, 10)        9440        User[0][0]                       \n",
      "__________________________________________________________________________________________________\n",
      "Flatten_Movies (Flatten)        (None, 10)           0           Movie_Embedding[0][0]            \n",
      "__________________________________________________________________________________________________\n",
      "Flatten_Users (Flatten)         (None, 10)           0           User_Embedding[0][0]             \n",
      "__________________________________________________________________________________________________\n",
      "DotProduct (Dot)                (None, 1)            0           Flatten_Movies[0][0]             \n",
      "                                                                 Flatten_Users[0][0]              \n",
      "==================================================================================================\n",
      "Total params: 26,270\n",
      "Trainable params: 26,270\n",
      "Non-trainable params: 0\n",
      "__________________________________________________________________________________________________\n"
     ]
    }
   ],
   "source": [
    "model.summary()"
   ]
  },
  {
   "cell_type": "code",
   "execution_count": 46,
   "metadata": {
    "colab": {
     "base_uri": "https://localhost:8080/"
    },
    "executionInfo": {
     "elapsed": 82598,
     "status": "ok",
     "timestamp": 1631814407966,
     "user": {
      "displayName": "Tuan Nguyen",
      "photoUrl": "https://lh3.googleusercontent.com/a/default-user=s64",
      "userId": "16032819670068843268"
     },
     "user_tz": -420
    },
    "id": "OOG9GFYVhG04",
    "outputId": "64a1ecfd-ff0e-43fd-b63c-32570644b2e2"
   },
   "outputs": [
    {
     "name": "stdout",
     "output_type": "stream",
     "text": [
      "Epoch 1/30\n",
      "313/313 [==============================] - 2s 6ms/step - loss: 0.4649 - mae: 0.5214 - mse: 0.4649\n",
      "Epoch 2/30\n",
      "313/313 [==============================] - 2s 6ms/step - loss: 0.4622 - mae: 0.5193 - mse: 0.4622\n",
      "Epoch 3/30\n",
      "313/313 [==============================] - 2s 6ms/step - loss: 0.4616 - mae: 0.5188 - mse: 0.4616\n",
      "Epoch 4/30\n",
      "313/313 [==============================] - 2s 6ms/step - loss: 0.4618 - mae: 0.5191 - mse: 0.4618\n",
      "Epoch 5/30\n",
      "313/313 [==============================] - 2s 6ms/step - loss: 0.4624 - mae: 0.5195 - mse: 0.4624\n",
      "Epoch 6/30\n",
      "313/313 [==============================] - 2s 6ms/step - loss: 0.4630 - mae: 0.5198 - mse: 0.4630\n",
      "Epoch 7/30\n",
      "313/313 [==============================] - 2s 6ms/step - loss: 0.4635 - mae: 0.5204 - mse: 0.4635\n",
      "Epoch 8/30\n",
      "313/313 [==============================] - 2s 6ms/step - loss: 0.4641 - mae: 0.5209 - mse: 0.4641\n",
      "Epoch 9/30\n",
      "313/313 [==============================] - 2s 6ms/step - loss: 0.4644 - mae: 0.5212 - mse: 0.4644\n",
      "Epoch 10/30\n",
      "313/313 [==============================] - 2s 6ms/step - loss: 0.4647 - mae: 0.5215 - mse: 0.4647\n",
      "Epoch 11/30\n",
      "313/313 [==============================] - 2s 6ms/step - loss: 0.4651 - mae: 0.5218 - mse: 0.4651\n",
      "Epoch 12/30\n",
      "313/313 [==============================] - 2s 6ms/step - loss: 0.4651 - mae: 0.5219 - mse: 0.4651\n",
      "Epoch 13/30\n",
      "313/313 [==============================] - 2s 6ms/step - loss: 0.4652 - mae: 0.5221 - mse: 0.4652\n",
      "Epoch 14/30\n",
      "313/313 [==============================] - 2s 6ms/step - loss: 0.4653 - mae: 0.5223 - mse: 0.4653\n",
      "Epoch 15/30\n",
      "313/313 [==============================] - 2s 6ms/step - loss: 0.4652 - mae: 0.5223 - mse: 0.4652\n",
      "Epoch 16/30\n",
      "313/313 [==============================] - 2s 6ms/step - loss: 0.4650 - mae: 0.5224 - mse: 0.4650\n",
      "Epoch 17/30\n",
      "313/313 [==============================] - 2s 6ms/step - loss: 0.4649 - mae: 0.5223 - mse: 0.4649\n",
      "Epoch 18/30\n",
      "313/313 [==============================] - 2s 6ms/step - loss: 0.4648 - mae: 0.5223 - mse: 0.4648\n",
      "Epoch 19/30\n",
      "313/313 [==============================] - 2s 6ms/step - loss: 0.4645 - mae: 0.5222 - mse: 0.4645\n",
      "Epoch 20/30\n",
      "313/313 [==============================] - 2s 6ms/step - loss: 0.4644 - mae: 0.5222 - mse: 0.4644\n",
      "Epoch 21/30\n",
      "313/313 [==============================] - 2s 6ms/step - loss: 0.4642 - mae: 0.5221 - mse: 0.4642\n",
      "Epoch 22/30\n",
      "313/313 [==============================] - 2s 6ms/step - loss: 0.4639 - mae: 0.5219 - mse: 0.4639\n",
      "Epoch 23/30\n",
      "313/313 [==============================] - 2s 6ms/step - loss: 0.4637 - mae: 0.5220 - mse: 0.4637\n",
      "Epoch 24/30\n",
      "313/313 [==============================] - 2s 6ms/step - loss: 0.4635 - mae: 0.5215 - mse: 0.4635\n",
      "Epoch 25/30\n",
      "313/313 [==============================] - 2s 6ms/step - loss: 0.4632 - mae: 0.5217 - mse: 0.4632\n",
      "Epoch 26/30\n",
      "313/313 [==============================] - 2s 6ms/step - loss: 0.4631 - mae: 0.5216 - mse: 0.4631\n",
      "Epoch 27/30\n",
      "313/313 [==============================] - 2s 6ms/step - loss: 0.4628 - mae: 0.5214 - mse: 0.4628\n",
      "Epoch 28/30\n",
      "313/313 [==============================] - 2s 6ms/step - loss: 0.4626 - mae: 0.5215 - mse: 0.4626\n",
      "Epoch 29/30\n",
      "313/313 [==============================] - 2s 6ms/step - loss: 0.4624 - mae: 0.5214 - mse: 0.4624\n",
      "Epoch 30/30\n",
      "313/313 [==============================] - 2s 6ms/step - loss: 0.4623 - mae: 0.5214 - mse: 0.4623\n"
     ]
    }
   ],
   "source": [
    "history = model.fit([train_ratings.userId, train_ratings.movieId], train_ratings.rating, epochs=30, batch_size=256)"
   ]
  },
  {
   "cell_type": "code",
   "execution_count": 47,
   "metadata": {
    "colab": {
     "base_uri": "https://localhost:8080/",
     "height": 283
    },
    "executionInfo": {
     "elapsed": 743,
     "status": "ok",
     "timestamp": 1631814410897,
     "user": {
      "displayName": "Tuan Nguyen",
      "photoUrl": "https://lh3.googleusercontent.com/a/default-user=s64",
      "userId": "16032819670068843268"
     },
     "user_tz": -420
    },
    "id": "Y1ikswkQhGwP",
    "outputId": "dbed4f81-76a0-4ef4-ab6b-35a52e3f65e6"
   },
   "outputs": [
    {
     "data": {
      "text/plain": [
       "<matplotlib.axes._subplots.AxesSubplot at 0x7f6f35b41450>"
      ]
     },
     "execution_count": 47,
     "metadata": {},
     "output_type": "execute_result"
    },
    {
     "data": {
      "image/png": "[encoded data removed]",
      "text/plain": [
       "<Figure size 432x288 with 1 Axes>"
      ]
     },
     "metadata": {
      "needs_background": "light"
     },
     "output_type": "display_data"
    }
   ],
   "source": [
    "import matplotlib.pyplot as plt\n",
    "pd.DataFrame(history.history).plot()"
   ]
  },
  {
   "cell_type": "code",
   "execution_count": 48,
   "metadata": {
    "executionInfo": {
     "elapsed": 274,
     "status": "ok",
     "timestamp": 1631814416196,
     "user": {
      "displayName": "Tuan Nguyen",
      "photoUrl": "https://lh3.googleusercontent.com/a/default-user=s64",
      "userId": "16032819670068843268"
     },
     "user_tz": -420
    },
    "id": "GSs_bJc7mpKC"
   },
   "outputs": [],
   "source": [
    "movie_embedding_learnt = model.get_layer(name='Movie_Embedding').get_weights()[0]\n",
    "user_embedding_learnt = model.get_layer(name='User_Embedding').get_weights()[0]"
   ]
  },
  {
   "cell_type": "code",
   "execution_count": 49,
   "metadata": {
    "executionInfo": {
     "elapsed": 269,
     "status": "ok",
     "timestamp": 1631814418050,
     "user": {
      "displayName": "Tuan Nguyen",
      "photoUrl": "https://lh3.googleusercontent.com/a/default-user=s64",
      "userId": "16032819670068843268"
     },
     "user_tz": -420
    },
    "id": "kwuo-8UxmpHk"
   },
   "outputs": [],
   "source": [
    "user_id = 15\n",
    "movies = user_embedding_learnt[user_id] @ movie_embedding_learnt.T"
   ]
  },
  {
   "cell_type": "code",
   "execution_count": 45,
   "metadata": {
    "colab": {
     "base_uri": "https://localhost:8080/"
    },
    "executionInfo": {
     "elapsed": 266,
     "status": "ok",
     "timestamp": 1631814311295,
     "user": {
      "displayName": "Tuan Nguyen",
      "photoUrl": "https://lh3.googleusercontent.com/a/default-user=s64",
      "userId": "16032819670068843268"
     },
     "user_tz": -420
    },
    "id": "Z1I6jocGmpAN",
    "outputId": "553c24f5-220f-4196-d45b-9f1d24dacfa0"
   },
   "outputs": [
    {
     "data": {
      "text/plain": [
       "[(6.9799037, 1473),\n",
       " (7.0449653, 854),\n",
       " (7.3692093, 1512),\n",
       " (7.4448814, 1394),\n",
       " (7.746495, 1176)]"
      ]
     },
     "execution_count": 45,
     "metadata": {},
     "output_type": "execute_result"
    }
   ],
   "source": [
    "sorted(zip(movies, range(len(movies))))[-5:]"
   ]
  },
  {
   "cell_type": "code",
   "execution_count": null,
   "metadata": {
    "id": "EQviuznxmo7x"
   },
   "outputs": [],
   "source": []
  }
 ],
 "metadata": {
  "accelerator": "GPU",
  "colab": {
   "authorship_tag": "ABX9TyNxScq8hTEulY19EEsdGU5/",
   "collapsed_sections": [],
   "name": "Session_14_MF_Keras.ipynb",
   "provenance": []
  },
  "kernelspec": {
   "display_name": "Python 3",
   "language": "python",
   "name": "python3"
  },
  "language_info": {
   "codemirror_mode": {
    "name": "ipython",
    "version": 3
   },
   "file_extension": ".py",
   "mimetype": "text/x-python",
   "name": "python",
   "nbconvert_exporter": "python",
   "pygments_lexer": "ipython3",
   "version": "3.7.4"
  }
 },
 "nbformat": 4,
 "nbformat_minor": 1
}
